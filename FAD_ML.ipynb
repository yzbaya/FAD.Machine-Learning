{
  "cells": [
    {
      "cell_type": "markdown",
      "metadata": {
        "id": "view-in-github",
        "colab_type": "text"
      },
      "source": [
        "<a href=\"https://colab.research.google.com/github/yzbaya/FAD.Machine-Learning/blob/main/FAD_ML.ipynb\" target=\"_parent\"><img src=\"https://colab.research.google.com/assets/colab-badge.svg\" alt=\"Open In Colab\"/></a>"
      ]
    },
    {
      "cell_type": "code",
      "source": [
        "import pandas as pd\n",
        "import numpy as np\n",
        "import matplotlib.pyplot as plt\n",
        "from sklearn.linear_model import LinearRegression\n",
        "from sklearn.model_selection import train_test_split\n",
        "from sklearn.impute import SimpleImputer"
      ],
      "metadata": {
        "id": "uA-8rXX1kqNv"
      },
      "execution_count": 1,
      "outputs": []
    },
    {
      "cell_type": "code",
      "source": [
        "data=pd.read_csv('FAD.csv')"
      ],
      "metadata": {
        "id": "LPQTkfcElW0e",
        "colab": {
          "base_uri": "https://localhost:8080/"
        },
        "outputId": "bf69a466-d6ba-498c-e95c-13147ef47f61"
      },
      "execution_count": 2,
      "outputs": [
        {
          "output_type": "stream",
          "name": "stderr",
          "text": [
            "<ipython-input-2-d0f901534e20>:1: DtypeWarning: Columns (11) have mixed types. Specify dtype option on import or set low_memory=False.\n",
            "  data=pd.read_csv('FAD.csv')\n"
          ]
        }
      ]
    },
    {
      "cell_type": "markdown",
      "source": [
        "**Préparation des Données **"
      ],
      "metadata": {
        "id": "gUpeS3cbSbuP"
      }
    },
    {
      "cell_type": "code",
      "source": [
        "#Nettoyage des données\n",
        "# data['DDA'] = pd.to_datetime(data['DDA'], errors='coerce', dayfirst=True)\n",
        "# data['DDV'] = pd.to_datetime(data['DDV'], errors='coerce', dayfirst=True)\n",
        "# data['month_dernier_vente']=data['DDV'].dt.month\n",
        "# data['season_dernier_vente']=data['DDV'].dt.month % 12 // 3+1"
      ],
      "metadata": {
        "id": "C_Cp4qk2QW7i"
      },
      "execution_count": 13,
      "outputs": []
    },
    {
      "cell_type": "code",
      "source": [
        "\n",
        "#séparation des colonnes numériques et non numériques\n",
        "numeric_cols=data.select_dtypes(include=[np.number]).columns\n",
        "non_numeric_cols = data.select_dtypes(exclude=[np.number]).columns\n",
        "\n",
        "#creation des dataframes séparer\n",
        "numeric_data=data[numeric_cols]\n",
        "non_numeric_data=data[non_numeric_cols]\n",
        "\n",
        "#imputation pour des valeur numérique\n",
        "imputer_num=SimpleImputer(strategy='median')\n",
        "numeric_data_imputed=pd.DataFrame(imputer_num.fit_transform(numeric_data))\n"
      ],
      "metadata": {
        "colab": {
          "base_uri": "https://localhost:8080/"
        },
        "id": "2I1S6-VxS6hp",
        "outputId": "43ed62d8-a1af-4e14-c638-99f17a2d9c42"
      },
      "execution_count": 3,
      "outputs": [
        {
          "output_type": "stream",
          "name": "stdout",
          "text": [
            "['CMJ', 'DDA', 'DDV', 'STDA', 'NJR', 'ecoulement', 'pareto']\n"
          ]
        }
      ]
    },
    {
      "cell_type": "code",
      "source": [],
      "metadata": {
        "id": "q6fhZV-7HcHy"
      },
      "execution_count": null,
      "outputs": []
    }
  ],
  "metadata": {
    "colab": {
      "name": "FAD.ML",
      "provenance": [],
      "include_colab_link": true
    },
    "kernelspec": {
      "display_name": "Python 3",
      "name": "python3"
    }
  },
  "nbformat": 4,
  "nbformat_minor": 0
}