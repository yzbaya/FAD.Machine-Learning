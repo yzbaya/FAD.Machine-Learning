{
  "cells": [
    {
      "cell_type": "markdown",
      "metadata": {
        "id": "view-in-github",
        "colab_type": "text"
      },
      "source": [
        "<a href=\"https://colab.research.google.com/github/yzbaya/MachineLeaning/blob/main/FAD_ML.ipynb\" target=\"_parent\"><img src=\"https://colab.research.google.com/assets/colab-badge.svg\" alt=\"Open In Colab\"/></a>"
      ]
    },
    {
      "cell_type": "code",
      "source": [
        "import pandas as pd\n",
        "import numpy as np\n",
        "import matplotlib.pyplot as plt\n",
        "from sklearn.linear_model import LinearRegression\n",
        "from sklearn.model_selection import train_test_split"
      ],
      "metadata": {
        "id": "uA-8rXX1kqNv"
      },
      "execution_count": null,
      "outputs": []
    },
    {
      "cell_type": "code",
      "source": [
        "data=pd.read_csv('FAD.csv')"
      ],
      "metadata": {
        "id": "LPQTkfcElW0e"
      },
      "execution_count": null,
      "outputs": []
    },
    {
      "cell_type": "code",
      "source": [
        "# Nettoyage des Données\n",
        "data['date'] = pd.to_datetime(data['date'])\n",
        "data['mois'] = data['date'].dt.month\n",
        "data['annee'] = data['date'].dt.year"
      ],
      "metadata": {
        "id": "92lYO_oGljtw"
      },
      "execution_count": null,
      "outputs": []
    },
    {
      "cell_type": "code",
      "source": [
        "# Agrégation des données par année\n",
        "data_annee = data.groupby('annee').agg({\n",
        "    'quantite_vendue': 'sum',\n",
        "    'quantite_achetee': 'sum',\n",
        "    'stock_actuel': 'mean',\n",
        "    'tendance': 'mean'\n",
        "}).reset_index()"
      ],
      "metadata": {
        "id": "DOixgx9rn0xr"
      },
      "execution_count": null,
      "outputs": []
    },
    {
      "cell_type": "code",
      "source": [],
      "metadata": {
        "id": "apv3WE_vxuZq"
      },
      "execution_count": null,
      "outputs": []
    }
  ],
  "metadata": {
    "colab": {
      "name": "FAD.ML",
      "provenance": [],
      "include_colab_link": true
    },
    "kernelspec": {
      "display_name": "Python 3",
      "name": "python3"
    }
  },
  "nbformat": 4,
  "nbformat_minor": 0
}