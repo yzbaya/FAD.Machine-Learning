{
  "cells": [
    {
      "cell_type": "markdown",
      "metadata": {
        "id": "view-in-github",
        "colab_type": "text"
      },
      "source": [
        "<a href=\"https://colab.research.google.com/github/yzbaya/FAD.Machine-Learning/blob/main/FAD_ML.ipynb\" target=\"_parent\"><img src=\"https://colab.research.google.com/assets/colab-badge.svg\" alt=\"Open In Colab\"/></a>"
      ]
    },
    {
      "cell_type": "code",
      "source": [
        "import pandas as pd\n",
        "from sklearn.impute import SimpleImputer\n",
        "from sklearn.preprocessing import MinMaxScaler\n",
        "from sklearn.model_selection import train_test_split\n",
        "from sklearn.ensemble import RandomForestRegressor\n",
        "from sklearn.model_selection import cross_val_score\n",
        "from sklearn.metrics import mean_absolute_error, mean_squared_error"
      ],
      "metadata": {
        "id": "uA-8rXX1kqNv"
      },
      "execution_count": 16,
      "outputs": []
    },
    {
      "cell_type": "code",
      "source": [
        "data = pd.read_csv('histoFAD.csv', encoding='latin1')"
      ],
      "metadata": {
        "id": "LPQTkfcElW0e",
        "outputId": "c34a78b7-8d27-4612-9887-97905a12cefa",
        "colab": {
          "base_uri": "https://localhost:8080/"
        }
      },
      "execution_count": 24,
      "outputs": [
        {
          "output_type": "stream",
          "name": "stderr",
          "text": [
            "<ipython-input-24-a38ad0390545>:1: DtypeWarning: Columns (5,14,22,34,35) have mixed types. Specify dtype option on import or set low_memory=False.\n",
            "  data = pd.read_csv('histoFAD.csv', encoding='latin1')\n"
          ]
        }
      ]
    },
    {
      "cell_type": "code",
      "source": [
        "numeric_features = ['NJR','CMJ']\n",
        "print(data[numeric_features].dtypes)\n",
        "#extract et imputer les colonnes numeriques\n",
        "numeric_features = ['NJR','CMJ']\n",
        "imputer_numeric=SimpleImputer(strategy='median')\n",
        "data[numeric_features]=imputer_numeric.fit_transform(data[numeric_features])"
      ],
      "metadata": {
        "id": "nXRu5I8dYFGn",
        "outputId": "3b85b24f-434a-4ae2-9301-c872827bacc5",
        "colab": {
          "base_uri": "https://localhost:8080/"
        }
      },
      "execution_count": 25,
      "outputs": [
        {
          "output_type": "stream",
          "name": "stdout",
          "text": [
            "NJR      int64\n",
            "CMJ    float64\n",
            "dtype: object\n"
          ]
        }
      ]
    },
    {
      "cell_type": "markdown",
      "source": [
        "**Préparation des Données **"
      ],
      "metadata": {
        "id": "gUpeS3cbSbuP"
      }
    },
    {
      "cell_type": "code",
      "source": [
        "# List des colonnes à convertir et à imputer\n",
        "columns_to_convert = ['N°','Vente 2024','Vente 2022','Vente 2023','Ecoulement']\n",
        "# print('autres colonnes')\n",
        "# print(data[columns_to_convert].dtypes)\n",
        "def convert_data(data,columns_to_convert):\n",
        "    for column in columns_to_convert:\n",
        "        data[column] = data[column].replace({',': '.'}, regex=True)  # Remplacer les virgules par des points\n",
        "        data[column] = pd.to_numeric(data[column], errors='coerce')  # Convertir en numérique\n",
        "        imputer_cols = SimpleImputer(strategy='median')\n",
        "        data[column] = imputer_cols.fit_transform(data[[column]])  # Imputer les valeurs manquantes\n",
        "        # data[column] = pd.Series(data[column].flatten()).apply(lambda x: max(x, 0))  # Remplacer les valeurs négatives par zéro\n",
        "    return data\n",
        "\n",
        "\n",
        "data=convert_data(data,columns_to_convert)\n",
        "#test\n",
        "print('colonnes non num')\n",
        "print(data[columns_to_convert].dtypes)\n",
        "\n",
        "print(\"Vérification générale des valeurs manquantes:\")\n",
        "print(data[columns_to_convert].isna().sum())\n",
        "print(data[numeric_features].isna().sum())"
      ],
      "metadata": {
        "id": "oUxy4G8Ske78",
        "outputId": "0261ab6b-8e05-4730-ecac-4f63d64e2aec",
        "colab": {
          "base_uri": "https://localhost:8080/"
        }
      },
      "execution_count": 26,
      "outputs": [
        {
          "output_type": "stream",
          "name": "stdout",
          "text": [
            "colonnes non num\n",
            "N°            float64\n",
            "Vente 2024    float64\n",
            "Vente 2022    float64\n",
            "Vente 2023    float64\n",
            "Ecoulement    float64\n",
            "dtype: object\n",
            "Vérification générale des valeurs manquantes:\n",
            "N°            0\n",
            "Vente 2024    0\n",
            "Vente 2022    0\n",
            "Vente 2023    0\n",
            "Ecoulement    0\n",
            "dtype: int64\n",
            "NJR    0\n",
            "CMJ    0\n",
            "dtype: int64\n"
          ]
        }
      ]
    },
    {
      "cell_type": "code",
      "source": [
        "# Sélection et imputation des données catégorielles\n",
        "categorical_features = ['Pareto']\n",
        "imputer_mostfrequent = SimpleImputer(strategy='most_frequent')\n",
        "data[categorical_features] = imputer_mostfrequent.fit_transform(data[categorical_features])\n",
        "print(data[categorical_features].isna().sum())\n",
        "\n",
        "data['Pareto_copy'] = data['Pareto']\n",
        "# Mapping importance des pièces\n",
        "pareto_importance = {\n",
        "    'AA': 1, 'AB': 2, 'AC': 3, 'AD': 4,\n",
        "    'BA': 5, 'BB': 6, 'BC': 7, 'BD': 8,\n",
        "    'CA': 9, 'CB': 10, 'CC': 11, 'CD': 12,\n",
        "    'DA': 13, 'DB': 14, 'DC': 15, 'DD': 16\n",
        "}\n",
        "data['Importance'] = data['Pareto_copy'].map(pareto_importance)\n",
        "\n",
        "# Encodage one-hot\n",
        "data = pd.get_dummies(data, columns=['Pareto_copy'], prefix='Pareto')\n",
        "\n",
        "\n",
        "# Afficher les premières lignes du dataframe pour une vérification visuelle\n",
        "print(data.head())\n"
      ],
      "metadata": {
        "id": "2I1S6-VxS6hp",
        "outputId": "a5e38b55-90a1-453e-bb15-6eb0dafcd1bd",
        "colab": {
          "base_uri": "https://localhost:8080/"
        }
      },
      "execution_count": 27,
      "outputs": [
        {
          "output_type": "stream",
          "name": "stdout",
          "text": [
            "Pareto    0\n",
            "dtype: int64\n",
            "          N°                                        Désignation  \\\n",
            "0  1100936.0  JAUGE + POMPE DIESEL-A2124700194-MERCEDES S212...   \n",
            "1     1090.0         PARAH.ROUE  068198171 11*85*105  AD 80-100   \n",
            "2     1110.0                       SUPPORT BV -811399151A- AD80   \n",
            "3     2113.0  BOUCHON CACHE SOUPAPE -06B103485C- GOLF 5-6/PO...   \n",
            "4     2234.0               ROTULE DIRECTION -861419812- AUDI 80   \n",
            "\n",
            "  Plage de Stock Enseigne Stocks Qté sur commande vente S-CVTE Prix unitaire  \\\n",
            "0            VIF     ACHR     1.                     0.   1.00       219.980   \n",
            "1            VIF     FEBI    44.                     0.  44.00        24.830   \n",
            "2           LENT     FEBI    21.                     0.  21.00        30.890   \n",
            "3            VIF     FEBI    41.                     0.  41.00         6.900   \n",
            "4            VIF     FEBI     0.                     0.   0.00        31.820   \n",
            "\n",
            "  Coût unitaire  Vente 2022  ...  Pareto_BA  Pareto_BB Pareto_BC Pareto_BD  \\\n",
            "0       135.296     418.282  ...      False      False     False     False   \n",
            "1        16.594     418.282  ...      False       True     False     False   \n",
            "2        21.525     418.282  ...      False      False     False     False   \n",
            "3         4.660     418.282  ...      False       True     False     False   \n",
            "4        22.239     418.282  ...      False      False     False     False   \n",
            "\n",
            "  Pareto_CB Pareto_CC  Pareto_CD Pareto_DB Pareto_DC Pareto_DD  \n",
            "0     False     False      False     False     False      True  \n",
            "1     False     False      False     False     False     False  \n",
            "2     False     False      False     False     False      True  \n",
            "3     False     False      False     False     False     False  \n",
            "4     False     False       True     False     False     False  \n",
            "\n",
            "[5 rows x 51 columns]\n"
          ]
        }
      ]
    },
    {
      "cell_type": "code",
      "source": [
        "\n",
        "#Normalisation des donées\n",
        "from sklearn.preprocessing import MinMaxScaler\n",
        "scaler = MinMaxScaler()\n",
        "features_to_scale = ['NJR', 'CMJ', 'Vente 2022', 'Vente 2023','Ecoulement']\n",
        "data[features_to_scale] = scaler.fit_transform(data[features_to_scale])"
      ],
      "metadata": {
        "id": "sJpx_oNWWa8R"
      },
      "execution_count": 28,
      "outputs": []
    },
    {
      "cell_type": "code",
      "source": [
        "\n",
        "from sklearn.model_selection import train_test_split\n",
        "features = ['NJR', 'CMJ', 'Vente 2022', 'Vente 2023', 'Ecoulement', 'Importance'] + [col for col in data.columns if col.startswith('Pareto_')]\n",
        "X=data[features]\n",
        "y=data['Vente 2024']\n",
        "# Vérifier à nouveau les valeurs manquantes dans y\n",
        "print(\"Vérification des valeurs manquantes dans y après suppression des lignes:\")\n",
        "print(data['Vente 2024'].isna().sum())\n",
        "\n",
        "X_train, X_test, y_train, y_test = train_test_split(X, y, test_size=0.2, random_state=42)"
      ],
      "metadata": {
        "id": "KNZS-iiCV24z",
        "colab": {
          "base_uri": "https://localhost:8080/"
        },
        "outputId": "b02db33e-320d-494f-b2cd-304a964071a9"
      },
      "execution_count": 29,
      "outputs": [
        {
          "output_type": "stream",
          "name": "stdout",
          "text": [
            "Vérification des valeurs manquantes dans y après suppression des lignes:\n",
            "0\n"
          ]
        }
      ]
    },
    {
      "cell_type": "code",
      "source": [
        "# Entraînement du modèle Random Forest et validation croisée\n",
        "model = RandomForestRegressor(random_state=42)\n",
        "cv_scores_rf = cross_val_score(model, X_train, y_train, cv=5, scoring='neg_mean_absolute_error')\n",
        "print(f\"Random Forest Cross-Validated MAE: {-cv_scores_rf.mean()}\")\n",
        "\n",
        "# Entraînement final du modèle\n",
        "model.fit(X_train, y_train)\n",
        "\n",
        "# Prédictions sur l'ensemble de test\n",
        "y_pred = model.predict(X_test)\n",
        "\n",
        "# Évaluation finale du modèle\n",
        "mae = mean_absolute_error(y_test, y_pred)\n",
        "mse = mean_squared_error(y_test, y_pred)\n",
        "print(f\"Mean Absolute Error: {mae}\")\n",
        "print(f\"Mean Squared Error: {mse}\")\n",
        "\n",
        "# Prédictions complètes pour affichage des résultats finaux\n",
        "data['Predicted Vente 2024'] = model.predict(X)\n",
        "\n",
        "# Comparaison avec les valeurs fournies par les responsables\n",
        "comparison = data[['N°', 'Vente 2024', 'Predicted Vente 2024']]\n",
        "print(comparison.head())"
      ],
      "metadata": {
        "id": "xZBhtx2qWbYV",
        "outputId": "d5ab66be-a765-4ca0-bafd-0f4360f50889",
        "colab": {
          "base_uri": "https://localhost:8080/"
        }
      },
      "execution_count": 30,
      "outputs": [
        {
          "output_type": "stream",
          "name": "stdout",
          "text": [
            "Random Forest Cross-Validated MAE: 109.74278922331413\n",
            "Mean Absolute Error: 109.48034439004316\n",
            "Mean Squared Error: 27688.342777930957\n",
            "          N°  Vente 2024  Predicted Vente 2024\n",
            "0  1100936.0    428.9610            208.911270\n",
            "1     1090.0    343.5755            343.575500\n",
            "2     1110.0    385.8320            407.795595\n",
            "3     2113.0    343.5755            343.575500\n",
            "4     2234.0    558.7590            561.548200\n"
          ]
        }
      ]
    },
    {
      "cell_type": "code",
      "source": [],
      "metadata": {
        "id": "HhplyyawZsjF"
      },
      "execution_count": null,
      "outputs": []
    }
  ],
  "metadata": {
    "colab": {
      "name": "FAD.ML",
      "provenance": [],
      "include_colab_link": true
    },
    "kernelspec": {
      "display_name": "Python 3",
      "name": "python3"
    }
  },
  "nbformat": 4,
  "nbformat_minor": 0
}