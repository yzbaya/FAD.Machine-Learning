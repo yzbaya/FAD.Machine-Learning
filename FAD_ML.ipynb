{
  "cells": [
    {
      "cell_type": "markdown",
      "metadata": {
        "id": "view-in-github",
        "colab_type": "text"
      },
      "source": [
        "<a href=\"https://colab.research.google.com/github/yzbaya/FAD.Machine-Learning/blob/main/FAD_ML.ipynb\" target=\"_parent\"><img src=\"https://colab.research.google.com/assets/colab-badge.svg\" alt=\"Open In Colab\"/></a>"
      ]
    },
    {
      "cell_type": "code",
      "source": [
        "import pandas as pd\n",
        "import numpy as np\n",
        "import matplotlib.pyplot as plt\n",
        "from sklearn.linear_model import LinearRegression\n",
        "from sklearn.impute import SimpleImputer"
      ],
      "metadata": {
        "id": "uA-8rXX1kqNv"
      },
      "execution_count": 73,
      "outputs": []
    },
    {
      "cell_type": "code",
      "source": [
        "data = pd.read_csv('histoFAD.csv', encoding='latin1')"
      ],
      "metadata": {
        "id": "LPQTkfcElW0e"
      },
      "execution_count": 77,
      "outputs": []
    },
    {
      "cell_type": "markdown",
      "source": [
        "**Préparation des Données **"
      ],
      "metadata": {
        "id": "gUpeS3cbSbuP"
      }
    },
    {
      "cell_type": "code",
      "source": [
        "numeric_features = ['NJR','CMJ']\n",
        "print(data[numeric_features].dtypes)\n"
      ],
      "metadata": {
        "id": "Q2U7B4_ilW7Q",
        "colab": {
          "base_uri": "https://localhost:8080/"
        },
        "outputId": "e4366fbc-d8c5-4889-d07b-e13afa40e9f5"
      },
      "execution_count": 78,
      "outputs": [
        {
          "output_type": "stream",
          "name": "stdout",
          "text": [
            "NJR    float64\n",
            "CMJ    float64\n",
            "dtype: object\n"
          ]
        }
      ]
    },
    {
      "cell_type": "code",
      "source": [
        "# List des colonnes à convertir et à imputer\n",
        "columns_to_convert = ['N°','Vente 2022','Vente 2023','Ecoulement']\n",
        "# print('autres colonnes')\n",
        "# print(data[columns_to_convert].dtypes)\n",
        "def convert_data(data,columns_to_convert):\n",
        "    for column in columns_to_convert:\n",
        "        data[column] = data[column].replace({',': '.'}, regex=True)  # Remplacer les virgules par des points\n",
        "        data[column] = pd.to_numeric(data[column], errors='coerce')  # Convertir en numérique\n",
        "        imputer_cols = SimpleImputer(strategy='median')\n",
        "        data[column] = imputer_cols.fit_transform(data[[column]])  # Imputer les valeurs manquantes\n",
        "        # data[column] = pd.Series(data[column].flatten()).apply(lambda x: max(x, 0))  # Remplacer les valeurs négatives par zéro\n",
        "    return data\n",
        "\n",
        "data=convert_data(data,columns_to_convert)\n",
        "#test\n",
        "print('colonnes non num')\n",
        "print(data[columns_to_convert].dtypes)\n",
        "\n",
        "print(\"Vérification générale des valeurs manquantes:\")\n",
        "print(data[columns_to_convert].isna().sum())\n",
        "print(data[numeric_features].isna().sum())"
      ],
      "metadata": {
        "id": "oUxy4G8Ske78",
        "outputId": "043f30c1-405e-4e8b-bf4c-a3e3db989b56",
        "colab": {
          "base_uri": "https://localhost:8080/"
        }
      },
      "execution_count": 97,
      "outputs": [
        {
          "output_type": "stream",
          "name": "stdout",
          "text": [
            "colonnes non num\n",
            "N°            float64\n",
            "Vente 2022    float64\n",
            "Vente 2023    float64\n",
            "Ecoulement    float64\n",
            "dtype: object\n",
            "Vérification générale des valeurs manquantes:\n",
            "N°            0\n",
            "Vente 2022    0\n",
            "Vente 2023    0\n",
            "Ecoulement    0\n",
            "dtype: int64\n",
            "NJR    0\n",
            "CMJ    0\n",
            "dtype: int64\n"
          ]
        }
      ]
    },
    {
      "cell_type": "code",
      "source": [
        "#extract et imputer les colonnes numeriques\n",
        "numeric_features = ['NJR','CMJ']\n",
        "imputer_numeric=SimpleImputer(strategy='median')\n",
        "data[numeric_features]=imputer_numeric.fit_transform(data[numeric_features])"
      ],
      "metadata": {
        "id": "Gqx-2Sx27TGv"
      },
      "execution_count": 98,
      "outputs": []
    },
    {
      "cell_type": "code",
      "source": [
        "# # Sélection et imputation des données catégorielles\n",
        "# categorical_features = ['Pareto']\n",
        "# imputer_mostfrequent = SimpleImputer(strategy='most_frequent')\n",
        "# data[categorical_features] = imputer_mostfrequent.fit_transform(data[categorical_features])\n",
        "# print(data[categorical_features].isna().sum())\n",
        "\n",
        "# data['Pareto_copy'] = data['Pareto']\n",
        "# # Mapping importance des pièces\n",
        "# pareto_importance = {\n",
        "#     'AA': 1, 'AB': 2, 'AC': 3, 'AD': 4,\n",
        "#     'BA': 5, 'BB': 6, 'BC': 7, 'BD': 8,\n",
        "#     'CA': 9, 'CB': 10, 'CC': 11, 'CD': 12,\n",
        "#     'DA': 13, 'DB': 14, 'DC': 15, 'DD': 16\n",
        "# }\n",
        "# data['Importance'] = data['Pareto_copy'].map(pareto_importance)\n",
        "\n",
        "# # Encodage one-hot\n",
        "# data = pd.get_dummies(data, columns=['Pareto_copy'], prefix='Pareto')\n",
        "\n",
        "\n",
        "# # Afficher les premières lignes du dataframe pour une vérification visuelle\n",
        "# print(data.head())\n"
      ],
      "metadata": {
        "id": "2I1S6-VxS6hp"
      },
      "execution_count": 93,
      "outputs": []
    },
    {
      "cell_type": "code",
      "source": [
        "#Normalisation des donées\n",
        "from sklearn.preprocessing import MinMaxScaler\n",
        "scaler = MinMaxScaler()\n",
        "features_to_scale = ['NJR', 'CMJ', 'Vente 2022', 'Vente 2023','Ecoulement']\n",
        "data[features_to_scale] = scaler.fit_transform(data[features_to_scale])"
      ],
      "metadata": {
        "id": "sJpx_oNWWa8R"
      },
      "execution_count": 105,
      "outputs": []
    },
    {
      "cell_type": "code",
      "source": [
        "\n",
        "from sklearn.model_selection import train_test_split\n",
        "features=['NJR','CMJ','Vente 2022','Vente 2023','Ecoulement']\n",
        "X=data[features]\n",
        "y=data['Vente 2024']\n",
        "print(X)\n",
        "X_train, X_test, y_train, y_test = train_test_split(X, y, test_size=0.2, random_state=42)"
      ],
      "metadata": {
        "id": "KNZS-iiCV24z",
        "colab": {
          "base_uri": "https://localhost:8080/"
        },
        "outputId": "852f066a-b5c3-494f-c39b-23c1b720b39d"
      },
      "execution_count": 107,
      "outputs": [
        {
          "output_type": "stream",
          "name": "stdout",
          "text": [
            "            NJR       CMJ  Vente 2022  Vente 2023  Ecoulement\n",
            "0      0.684932  0.000423    0.004182    0.000475    0.000012\n",
            "1      0.191781  0.006683    0.020122    0.017389    0.000005\n",
            "2      0.487671  0.001195    0.004182    0.002171    0.000017\n",
            "3      0.136986  0.015864    0.011395    0.008769    0.000002\n",
            "4      0.484932  0.001754    0.003316    0.003741    0.000001\n",
            "...         ...       ...         ...         ...         ...\n",
            "10311  0.216438  0.002635    0.014974    0.008152    0.000008\n",
            "10312  0.073973  0.000901    0.004317    0.002318    0.000026\n",
            "10313  0.347945  0.001611    0.005644    0.005178    0.000004\n",
            "10314  0.509589  0.014383    0.028754    0.039516    0.000004\n",
            "10315  0.534247  0.001249    0.006114    0.005883    0.000005\n",
            "\n",
            "[10316 rows x 5 columns]\n"
          ]
        }
      ]
    },
    {
      "cell_type": "code",
      "source": [
        "\n",
        "from sklearn.metrics import mean_absolute_error, mean_squared_error\n",
        "from sklearn.model_selection import train_test_split\n",
        "#entrainement du modele\n",
        "model=LinearRegression()\n",
        "cv_scores_lr = cross_val_score(model_lr, X_train, y_train, cv=5, scoring='neg_mean_absolute_error')\n",
        "print(f\"Linear Regression Cross-Validated MAE: {-cv_scores_lr.mean()}\")\n",
        "model.fit(X_train,y_train)\n",
        "\n",
        "# # Prédictions sur l'ensemble de test\n",
        "# y_pred = model.predict(X_test)\n",
        "\n",
        "# # Prédiction complete pour l'affichage les résultats finaux\n",
        "# data['Predicted Vente 2024'] = model.predict(X)\n",
        "\n",
        "# # Include part names or IDs in the final output\n",
        "# predictions = data[['Vente 2024']]\n",
        "# print(predictions.head())\n",
        "\n",
        "# #evaluation du model\n",
        "# mae = mean_absolute_error(y_test, model.predict(X_test))\n",
        "# mse = mean_squared_error(y_test, model.predict(X_test))\n",
        "# print(f\"Mean Absolute Error: {mae}\")\n",
        "# print(f\"Mean Squared Error: {mse}\")"
      ],
      "metadata": {
        "id": "xZBhtx2qWbYV",
        "outputId": "d439eb34-40b2-434b-a9e6-d59f3a96fc37",
        "colab": {
          "base_uri": "https://localhost:8080/",
          "height": 211
        }
      },
      "execution_count": 108,
      "outputs": [
        {
          "output_type": "error",
          "ename": "NameError",
          "evalue": "name 'cross_val_score' is not defined",
          "traceback": [
            "\u001b[0;31m---------------------------------------------------------------------------\u001b[0m",
            "\u001b[0;31mNameError\u001b[0m                                 Traceback (most recent call last)",
            "\u001b[0;32m<ipython-input-108-2cce6d82c5d9>\u001b[0m in \u001b[0;36m<cell line: 5>\u001b[0;34m()\u001b[0m\n\u001b[1;32m      3\u001b[0m \u001b[0;31m#entrainement du modele\u001b[0m\u001b[0;34m\u001b[0m\u001b[0;34m\u001b[0m\u001b[0m\n\u001b[1;32m      4\u001b[0m \u001b[0mmodel\u001b[0m\u001b[0;34m=\u001b[0m\u001b[0mLinearRegression\u001b[0m\u001b[0;34m(\u001b[0m\u001b[0;34m)\u001b[0m\u001b[0;34m\u001b[0m\u001b[0;34m\u001b[0m\u001b[0m\n\u001b[0;32m----> 5\u001b[0;31m \u001b[0mcv_scores_lr\u001b[0m \u001b[0;34m=\u001b[0m \u001b[0mcross_val_score\u001b[0m\u001b[0;34m(\u001b[0m\u001b[0mmodel_lr\u001b[0m\u001b[0;34m,\u001b[0m \u001b[0mX_train\u001b[0m\u001b[0;34m,\u001b[0m \u001b[0my_train\u001b[0m\u001b[0;34m,\u001b[0m \u001b[0mcv\u001b[0m\u001b[0;34m=\u001b[0m\u001b[0;36m5\u001b[0m\u001b[0;34m,\u001b[0m \u001b[0mscoring\u001b[0m\u001b[0;34m=\u001b[0m\u001b[0;34m'neg_mean_absolute_error'\u001b[0m\u001b[0;34m)\u001b[0m\u001b[0;34m\u001b[0m\u001b[0;34m\u001b[0m\u001b[0m\n\u001b[0m\u001b[1;32m      6\u001b[0m \u001b[0mprint\u001b[0m\u001b[0;34m(\u001b[0m\u001b[0;34mf\"Linear Regression Cross-Validated MAE: {-cv_scores_lr.mean()}\"\u001b[0m\u001b[0;34m)\u001b[0m\u001b[0;34m\u001b[0m\u001b[0;34m\u001b[0m\u001b[0m\n\u001b[1;32m      7\u001b[0m \u001b[0mmodel\u001b[0m\u001b[0;34m.\u001b[0m\u001b[0mfit\u001b[0m\u001b[0;34m(\u001b[0m\u001b[0mX_train\u001b[0m\u001b[0;34m,\u001b[0m\u001b[0my_train\u001b[0m\u001b[0;34m)\u001b[0m\u001b[0;34m\u001b[0m\u001b[0;34m\u001b[0m\u001b[0m\n",
            "\u001b[0;31mNameError\u001b[0m: name 'cross_val_score' is not defined"
          ]
        }
      ]
    },
    {
      "cell_type": "code",
      "source": [],
      "metadata": {
        "id": "HhplyyawZsjF"
      },
      "execution_count": null,
      "outputs": []
    }
  ],
  "metadata": {
    "colab": {
      "name": "FAD.ML",
      "provenance": [],
      "include_colab_link": true
    },
    "kernelspec": {
      "display_name": "Python 3",
      "name": "python3"
    }
  },
  "nbformat": 4,
  "nbformat_minor": 0
}