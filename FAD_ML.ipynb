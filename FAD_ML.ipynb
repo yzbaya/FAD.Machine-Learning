{
  "cells": [
    {
      "cell_type": "markdown",
      "metadata": {
        "id": "view-in-github",
        "colab_type": "text"
      },
      "source": [
        "<a href=\"https://colab.research.google.com/github/yzbaya/FAD.Machine-Learning/blob/main/FAD_ML.ipynb\" target=\"_parent\"><img src=\"https://colab.research.google.com/assets/colab-badge.svg\" alt=\"Open In Colab\"/></a>"
      ]
    },
    {
      "cell_type": "code",
      "source": [
        "import pandas as pd\n",
        "import numpy as np\n",
        "import matplotlib.pyplot as plt\n",
        "from sklearn.linear_model import LinearRegression\n",
        "from sklearn.model_selection import train_test_split\n",
        "from sklearn.impute import SimpleImputer"
      ],
      "metadata": {
        "id": "uA-8rXX1kqNv"
      },
      "execution_count": 11,
      "outputs": []
    },
    {
      "cell_type": "code",
      "source": [
        "data=pd.read_csv('FAD.csv')"
      ],
      "metadata": {
        "id": "LPQTkfcElW0e",
        "outputId": "858c6d3f-d3ba-41a7-97a7-62f908eef8a9",
        "colab": {
          "base_uri": "https://localhost:8080/"
        }
      },
      "execution_count": 12,
      "outputs": [
        {
          "output_type": "stream",
          "name": "stderr",
          "text": [
            "<ipython-input-12-d0f901534e20>:1: DtypeWarning: Columns (11) have mixed types. Specify dtype option on import or set low_memory=False.\n",
            "  data=pd.read_csv('FAD.csv')\n"
          ]
        }
      ]
    },
    {
      "cell_type": "markdown",
      "source": [
        "**Préparation des Données **"
      ],
      "metadata": {
        "id": "gUpeS3cbSbuP"
      }
    },
    {
      "cell_type": "code",
      "source": [
        "#Conversion Data\n",
        "data['DDA'] = pd.to_datetime(data['DDA'], errors='coerce', dayfirst=True)\n",
        "data['DDV'] = pd.to_datetime(data['DDV'], errors='coerce', dayfirst=True)"
      ],
      "metadata": {
        "id": "C_Cp4qk2QW7i"
      },
      "execution_count": 13,
      "outputs": []
    },
    {
      "cell_type": "code",
      "source": [
        "#selectionner les colonnes spécifique\n",
        "selected_columns=[\n",
        "    'CMJ',\n",
        "    # 'DDA',\n",
        "    # 'DDV',\n",
        "    'STDA',\n",
        "    'NJR',\n",
        "    ]\n",
        "\n",
        "#séparation des colonnes numériques et non numériques\n",
        "numeric_cols=data.select_dtypes(include=[np.number]).columns\n",
        "non_numeric_cols = data.select_dtypes(exclude=[np.number]).columns\n",
        "#creation des dataframes séparer\n",
        "numeric_data=data[numeric_cols]\n",
        "non_numeric_data=data[non_numeric_cols]\n",
        "#imputation pour des valeur numérique\n",
        "imputer_num=SimpleImputer(strategy='median')\n",
        "numeric_data_imputed=pd.DataFrame(imputer_num.fit_transform(numeric_data)).\n"
      ],
      "metadata": {
        "id": "2I1S6-VxS6hp"
      },
      "execution_count": 15,
      "outputs": []
    },
    {
      "cell_type": "code",
      "source": [],
      "metadata": {
        "id": "q6fhZV-7HcHy"
      },
      "execution_count": null,
      "outputs": []
    }
  ],
  "metadata": {
    "colab": {
      "name": "FAD.ML",
      "provenance": [],
      "include_colab_link": true
    },
    "kernelspec": {
      "display_name": "Python 3",
      "name": "python3"
    }
  },
  "nbformat": 4,
  "nbformat_minor": 0
}